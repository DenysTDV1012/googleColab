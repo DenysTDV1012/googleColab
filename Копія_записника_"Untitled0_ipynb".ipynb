{
  "nbformat": 4,
  "nbformat_minor": 0,
  "metadata": {
    "colab": {
      "provenance": [],
      "authorship_tag": "ABX9TyM21MCbNJSCn/SEoxxsB4cS",
      "include_colab_link": true
    },
    "kernelspec": {
      "name": "python3",
      "display_name": "Python 3"
    },
    "language_info": {
      "name": "python"
    }
  },
  "cells": [
    {
      "cell_type": "markdown",
      "metadata": {
        "id": "view-in-github",
        "colab_type": "text"
      },
      "source": [
        "<a href=\"https://colab.research.google.com/github/DenysTDV1012/googleColab/blob/main/%D0%9A%D0%BE%D0%BF%D1%96%D1%8F_%D0%B7%D0%B0%D0%BF%D0%B8%D1%81%D0%BD%D0%B8%D0%BA%D0%B0_%22Untitled0_ipynb%22.ipynb\" target=\"_parent\"><img src=\"https://colab.research.google.com/assets/colab-badge.svg\" alt=\"Open In Colab\"/></a>"
      ]
    },
    {
      "cell_type": "code",
      "execution_count": null,
      "metadata": {
        "id": "jd5wo-KlER_Q"
      },
      "outputs": [],
      "source": [
        "!wget -qO- https://toolbelt.heroku.com/install-ubuntu.sh | sh"
      ]
    },
    {
      "cell_type": "code",
      "source": [
        "!heroku"
      ],
      "metadata": {
        "id": "aXciv87nFoMv"
      },
      "execution_count": null,
      "outputs": []
    },
    {
      "cell_type": "code",
      "source": [
        "!heroku status"
      ],
      "metadata": {
        "colab": {
          "base_uri": "https://localhost:8080/"
        },
        "id": "MsREHB7uI9uT",
        "outputId": "71022320-0f21-49d5-b467-27759efec68d"
      },
      "execution_count": 24,
      "outputs": [
        {
          "output_type": "stream",
          "name": "stdout",
          "text": [
            "\u001b[31m ▸\u001b[39m    'CERT_HAS_EXPIRED': certificate has expired\n"
          ]
        }
      ]
    },
    {
      "cell_type": "code",
      "source": [
        "!heroku keys:add"
      ],
      "metadata": {
        "colab": {
          "base_uri": "https://localhost:8080/"
        },
        "id": "YRCH3A9AJTbN",
        "outputId": "96b531aa-78d9-44c9-bfd6-516eeba1c110"
      },
      "execution_count": 31,
      "outputs": [
        {
          "output_type": "stream",
          "name": "stdout",
          "text": [
            "Could not find an existing SSH key at ~/.ssh/id_rsa.pub\n",
            "\u001b[32m?\u001b[39m \u001b[1mWould you like to generate a new one?\u001b[22m\u001b[0m \u001b[0m\u001b[2m(Y/n) \u001b[22m\u001b[46D\u001b[46C\u001b[2K\u001b[G\u001b[32m?\u001b[39m \u001b[1mWould you like to generate a new one?\u001b[22m\u001b[0m \u001b[0m\u001b[2m(Y/n) \u001b[22my\u001b[47D\u001b[47C\u001b[2K\u001b[G\u001b[32m?\u001b[39m \u001b[1mWould you like to generate a new one?\u001b[22m\u001b[0m \u001b[0m\u001b[36mYes\u001b[39m\u001b[43D\u001b[43C\n",
            "Generating public/private rsa key pair.\n",
            "Your identification has been saved in /root/.ssh/id_rsa\n",
            "Your public key has been saved in /root/.ssh/id_rsa.pub\n",
            "The key fingerprint is:\n",
            "SHA256:NMF5WSXG7XIno/jovHysfJzQ0o4Px1ADQ8vhg8fh1i8 root@07dc0d640a7d\n",
            "The key's randomart image is:\n",
            "+---[RSA 3072]----+\n",
            "|       ..o*++o.  |\n",
            "|        oBoO...  |\n",
            "|        +.X +.   |\n",
            "|       . + o.o= .|\n",
            "|        S .+E+.+ |\n",
            "|          +o+.   |\n",
            "|          .Xo.   |\n",
            "|         +ooO    |\n",
            "|         .B*.    |\n",
            "+----[SHA256]-----+\n",
            "\u001b[G\u001b[2K\u001b[?25lUploading \u001b[36m/root/.ssh/id_rsa.pub\u001b[39m SSH key... \u001b[35m⣾\u001b[39m \n",
            "\u001b[2A\u001b[13C\u001b[1B\u001b[35m⣽\u001b[39m\u001b[1B\u001b[G\u001b[2K\u001b[2A\u001b[13C\u001b[1B\u001b[35m⣻\u001b[39m\u001b[1B\u001b[G\u001b[2K\u001b[2A\u001b[JUploading \u001b[36m/root/.ssh/id_rsa.pub\u001b[39m SSH key... \u001b[31m\u001b[1m!\u001b[22m\u001b[39m\n",
            "\u001b[?25h \u001b[31m▸\u001b[39m    Invalid credentials\n",
            " \u001b[31m▸\u001b[39m    provided.\n",
            "Enter your Heroku credentials:\n",
            "\u001b[2mEmail: \u001b[22mdenystrishchuk@gmail.com\n",
            "\u001b[2K\u001b[G\u001b[2mPassword: \u001b[22m**************\u001b[?25h"
          ]
        }
      ]
    },
    {
      "cell_type": "code",
      "source": [
        "!heroku certs:info --help"
      ],
      "metadata": {
        "colab": {
          "base_uri": "https://localhost:8080/"
        },
        "id": "jnYNnJIMLFuh",
        "outputId": "3546b1c6-476a-4627-fac3-5dc219ba0a51"
      },
      "execution_count": 27,
      "outputs": [
        {
          "output_type": "stream",
          "name": "stdout",
          "text": [
            "Usage: heroku certs:info [flags]\n",
            "\n",
            "show certificate information for an SSL certificate\n",
            "\n",
            "Flags:\n",
            " -a, --app APP        app to run command against\n",
            " -r, --remote REMOTE  git remote of app to use\n",
            " --endpoint ENDPOINT  endpoint to check info on\n",
            " --name NAME          name to check info on\n",
            "\n"
          ]
        }
      ]
    },
    {
      "cell_type": "code",
      "source": [
        "!heroku keys"
      ],
      "metadata": {
        "colab": {
          "base_uri": "https://localhost:8080/"
        },
        "id": "_egVbsm8PcLF",
        "outputId": "d5ba11a2-7b20-4018-c913-3e313e0e9d93"
      },
      "execution_count": 33,
      "outputs": [
        {
          "output_type": "stream",
          "name": "stdout",
          "text": [
            " \u001b[31m▸\u001b[39m    Invalid credentials\n",
            " \u001b[31m▸\u001b[39m    provided.\n",
            "Enter your Heroku credentials:\n",
            "\u001b[2mEmail: \u001b[22mdenystrishchuk@gmail.com\n",
            "\u001b[2K\u001b[G\u001b[2mPassword: \u001b[22m*****************\u001b[?25h"
          ]
        }
      ]
    },
    {
      "cell_type": "code",
      "source": [
        "!heroku auth:login"
      ],
      "metadata": {
        "colab": {
          "base_uri": "https://localhost:8080/"
        },
        "id": "un5kzuGBFuTW",
        "outputId": "cb266e8a-13d6-4262-b8e1-f522d476c677"
      },
      "execution_count": 9,
      "outputs": [
        {
          "output_type": "stream",
          "name": "stdout",
          "text": [
            "\u001b[?25h"
          ]
        }
      ]
    }
  ]
}